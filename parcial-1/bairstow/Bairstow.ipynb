{
 "cells": [
  {
   "cell_type": "markdown",
   "metadata": {
    "collapsed": false
   },
   "source": [
    "21 de agosto de 2018\n",
    "# Bairstow\n",
    "Usando división sintetica podemos utilizar este metodo para aproximar raices:\n",
    "$\\frac{polinomio}{x^2 - rx -s}$, al finalizar encontramos la funcion que divide al polinomio.  \n",
    "\n",
    "$b_n = a_n$  \n",
    "$b_{n-1} = a_{n-1} + rb_n$  \n",
    "$b_i = a_i + rb_{i+1} + sb_{i+2}$  \n",
    "  \n",
    "    \n",
    "$ Residuo = b_1(x-r) + b_0 = 0$  \n",
    "  \n",
    "$b_1(rA  \\bigtriangleup_r), S(\\bigtriangleup_s)$ *POR CHECAR*  \n",
    "  \n",
    "$= b_1 + \\frac{db1}{dr} \\bigtriangleup_r + \\frac{db1}{ds}\\bigtriangleup_s = 0$  \n",
    "$b_0 (r + \\bigtriangleup_r , s + \\bigtriangleup_s)$  \n",
    "  \n",
    "$= b_0 + \\frac{db0}{dr} \\bigtriangleup_r + \\frac{db0}{ds}\\bigtriangleup_s = 0$  \n",
    "\n",
    "<span style=\"color:red\">$= b_0 + \\frac{db0}{dr} \\bigtriangleup_r + \\frac{db0}{ds}\\bigtriangleup_s = 0$</span>  \n",
    "<span style=\"color:red\">$= b_1 + \\frac{db1}{dr} \\bigtriangleup_r + \\frac{db1}{ds}\\bigtriangleup_s = 0$</span>  \n",
    "\n",
    "\n",
    "$C_n = b_n$  \n",
    "$C_{n-1} = b_{n-1} + rC_n$  \n",
    "$C_i = b_i + rC{i+1} + SC{i+2}$ para $i=n-2 \\Rightarrow 0$  \n",
    "$\\frac{db_0}{d_r} = C_1 $  \n",
    "$\\frac{db_0}{d_s} = \\frac{db_1}{d_r} = C_2 $  \n",
    "$\\frac{db_1}{d_s} = C_3 $  \n",
    "\n",
    "<span style=\"color:red\">$C_2 \\bigtriangleup_r + C_3 \\bigtriangleup_s = -b_1$</span>  \n",
    "<span style=\"color:red\">$C_1 \\bigtriangleup_r + C_2 \\bigtriangleup_s = -b_0$</span>  \n",
    "\n",
    "$ERROR = |\\frac{\\bigtriangleup_r}{r}|$\n",
    "\n",
    "  \n",
    "    \n",
    "$\\bigtriangleup_s = \\frac{\\frac{-b_1}{C2}+\\frac{b_0}{C_1}}{\\frac{C_3}{C2}-\\frac{C_2}{C_1}}$"
   ]
  },
  {
   "cell_type": "markdown",
   "metadata": {
    "collapsed": false
   },
   "source": [
    "# Ejercicio  \n",
    "\n",
    "Tenemos $f(x) = x^5 -3.5 x^4 + 2.75x^3 + 2.125 x^2 - 3.875x + 1.25$\n",
    "los varlores  \n",
    "$b_s = 1$"
   ]
  },
  {
   "cell_type": "code",
   "execution_count": 5,
   "metadata": {
    "collapsed": false
   },
   "outputs": [
    {
     "name": "stdout",
     "output_type": "stream",
     "text": [
      "[[(8.262443771984449, 3.901296406091049), (8.262443771984449, -3.901296406091049)], [(-2.0282318092368405, 0), (-5.896655734732057, 0)]]\n"
     ]
    }
   ],
   "source": [
    "#Ejemplo Bairstow \n",
    "# f(x) = x^5 -3.5x^4 +2.75x^3 +2.125x^2 -3.875x + 1.25\n",
    "#[1.25,-3.875,2.125,2.75,-3.5,1]\n",
    "\n",
    "# x**4 - 8.6*x**3 - 35.51*x**2 + 464*x + 998.46\n",
    "# [998.46, 464, -35.51, -8.6, 1]\n",
    "import math\n",
    "\n",
    "def cuadratica(a,b,c):\n",
    "    discriminante = b**2 - 4*a*c\n",
    "    if discriminante > 0:\n",
    "        rdiscriminante = math.sqrt(discriminante)\n",
    "        x1 = (-b + rdiscriminante )/(2*a)\n",
    "        x2 = (-b - rdiscriminante )/(2*a)\n",
    "        return [(x1,0),(x2,0)]\n",
    "    if discriminante == 0:\n",
    "        x = -b / (2*a)\n",
    "        return [(x,0),(x,0)]\n",
    "    xr = -b / (2*a)\n",
    "    xi = math.sqrt(abs(discriminante)) / (2*a)\n",
    "    return [(xr,xi),(xr,-xi)]\n",
    "\n",
    "def bn(a):\n",
    "    return a[-1]\n",
    "def bn1(a,b,r):\n",
    "    return a[-2] + r*b\n",
    "# [bn1, bn]\n",
    "def bi(i,a,r,s,b):\n",
    "    return a[i] + r*b[0] + s*b[1]\n",
    "\n",
    "def cn(b):\n",
    "    return bn(b)\n",
    "def cn1(b,c,r):\n",
    "    return bn1(b,c,r)\n",
    "def ci(i,b,r,s,c):\n",
    "    return bi(i,b,r,s,c)\n",
    "\n",
    "r = -1\n",
    "s = -1\n",
    "b = []\n",
    "raices = []\n",
    "#a = [1.25,-3.875,2.125,2.75,-3.5,1]#orden inverso\n",
    "a = [998.46, 464, -35.51, -8.6, 1]\n",
    "\n",
    "while True:\n",
    "    for i in range(100):\n",
    "        b = []\n",
    "        c = []\n",
    "        b.append(bn(a))\n",
    "        b.insert(0, bn1(a,b[0],r))\n",
    "        limit = len(a) - 2\n",
    "        for i in reversed(range(0,limit)):\n",
    "            b.insert(0,bi(i,a,r,s,b))\n",
    "\n",
    "        c.append(cn(b))\n",
    "        c.insert(0,cn1(b,c[0],r))\n",
    "        for i in reversed(range(0,limit)):\n",
    "            c.insert(0,ci(i,b,r,s,c))\n",
    "\n",
    "        def deltaS(b,c):\n",
    "            return ((-b[1]/c[2]) + (b[0]/c[1])) / ((c[3]/c[2]) - (c[2]/c[1]))\n",
    "\n",
    "        def deltaR(b,c,dS):\n",
    "            return (-b[0]/c[1]) - ((c[2]/c[1])* dS)\n",
    "\n",
    "        dS = deltaS(b,c)\n",
    "        dR = deltaR(b,c,dS)\n",
    "\n",
    "        if abs(dS) < 0.01 and abs(dR) < 0.01:\n",
    "            break\n",
    "        r = r + dR\n",
    "        s = s + dS\n",
    "\n",
    "    raices.insert(0,cuadratica(1,-r,-s))\n",
    "\n",
    "    #Actualizar el siguiente polinomio\n",
    "    a = b[2:]\n",
    "    grade = len(a)\n",
    "    if grade == 3: #El polinomio es de grado 2\n",
    "        raices.insert(0,cuadratica(a[2],a[1],a[0]))\n",
    "        break\n",
    "    if grade == 2: #El polinomio es de grado 1\n",
    "        raices.insert(0,-a[0]/a[1])\n",
    "        break\n",
    "\n",
    "print(raices)"
   ]
  },
  {
   "cell_type": "code",
   "execution_count": 0,
   "metadata": {
    "collapsed": false
   },
   "outputs": [
   ],
   "source": [
   ]
  }
 ],
 "metadata": {
  "kernelspec": {
   "display_name": "Python 3 (Ubuntu Linux)",
   "language": "python",
   "name": "python3"
  },
  "language_info": {
   "codemirror_mode": {
    "name": "ipython",
    "version": 3
   },
   "file_extension": ".py",
   "mimetype": "text/x-python",
   "name": "python",
   "nbconvert_exporter": "python",
   "pygments_lexer": "ipython3",
   "version": "3.6.6"
  }
 },
 "nbformat": 4,
 "nbformat_minor": 0
}