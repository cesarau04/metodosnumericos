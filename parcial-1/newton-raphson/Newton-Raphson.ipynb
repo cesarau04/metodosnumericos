{
 "cells": [
  {
   "cell_type": "markdown",
   "metadata": {
    "collapsed": false
   },
   "source": [
    "17 de agosto de 2018\n",
    "\n",
    "# <span style=\"color:red\">Netwon-Raphson</span>."
   ]
  },
  {
   "cell_type": "markdown",
   "metadata": {
    "collapsed": false
   },
   "source": [
    "$ X_r = X_0 - \\frac{f_{x_0}}{f'{x_0}} $"
   ]
  },
  {
   "cell_type": "code",
   "execution_count": 1,
   "metadata": {
    "collapsed": false
   },
   "outputs": [
    {
     "name": "stdout",
     "output_type": "stream",
     "text": [
      "El valor de la raiz es de 0.68075775\n",
      "Iteraciones 100\n"
     ]
    },
    {
     "data": {
      "image/png": "[encoded data removed]"
     },
     "metadata": {
      "image/png": {
       "height": 250,
       "width": 385
      }
     }
    }
   ],
   "source": [
    "import math\n",
    "import numpy as np\n",
    "import matplotlib.pyplot as plt\n",
    "\n",
    "\n",
    "def f(x):\n",
    "    return -x**2 + 10 * x - 40\n",
    "\n",
    "\n",
    "def fprima(x):\n",
    "    return -2 * x - 10\n",
    "\n",
    "\n",
    "xarray = np.linspace(-7.5, -2, 200)\n",
    "yarray = np.zeros(200)\n",
    "\n",
    "for i in range(200):\n",
    "    yarray[i] = f(xarray[i])\n",
    "\n",
    "x0 = 7\n",
    "itera = 0\n",
    "\n",
    "for i in range(100):\n",
    "    itera += 1\n",
    "    xr = x0 - f(x0) / fprima(x0)\n",
    "    fxr = f(xr)\n",
    "    if abs(fxr) < 0.0001:\n",
    "        break\n",
    "    x0 = xr\n",
    "print(\"El valor de la raiz es de %.8f\" % x0)\n",
    "print(\"Iteraciones %i\" % itera)\n",
    "\n",
    "plt.plot(xarray, yarray)\n",
    "plt.grid()\n",
    "plt.show()"
   ]
  },
  {
   "cell_type": "code",
   "execution_count": 0,
   "metadata": {
    "collapsed": false
   },
   "outputs": [
   ],
   "source": [
   ]
  }
 ],
 "metadata": {
  "kernelspec": {
   "display_name": "Python 3 (Ubuntu Linux)",
   "language": "python",
   "name": "python3"
  },
  "language_info": {
   "codemirror_mode": {
    "name": "ipython",
    "version": 3
   },
   "file_extension": ".py",
   "mimetype": "text/x-python",
   "name": "python",
   "nbconvert_exporter": "python",
   "pygments_lexer": "ipython3",
   "version": "3.6.6"
  }
 },
 "nbformat": 4,
 "nbformat_minor": 0
}