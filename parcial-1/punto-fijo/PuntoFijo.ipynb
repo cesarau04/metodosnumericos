{
 "cells": [
  {
   "cell_type": "markdown",
   "metadata": {
    "collapsed": false
   },
   "source": [
    "10 de agosto de 2018  \n",
    "# Punto fijo"
   ]
  },
  {
   "cell_type": "markdown",
   "metadata": {
    "collapsed": false
   },
   "source": [
    "$2x^2 - 5x + 3 = 0$  \n",
    "Despejando  \n",
    "$x_1 = \\frac{2x^2_0 + 3}{5}$"
   ]
  },
  {
   "cell_type": "code",
   "execution_count": 2,
   "metadata": {
    "collapsed": false
   },
   "outputs": [
    {
     "name": "stdout",
     "output_type": "stream",
     "text": [
      "La raiz es 1.00000\n",
      "Numero de iteraciones 59\n"
     ]
    }
   ],
   "source": [
    "def xnew(xprev):\n",
    "    return (2*xprev**2 + 3)/5\n",
    "\n",
    "x0 = 0\n",
    "x1 = 0\n",
    "iteraciones = 0\n",
    "\n",
    "for i in range(100):\n",
    "    x1 = xnew(x0)\n",
    "    if abs((x1 - x0)) < 0.0000001:\n",
    "        break\n",
    "    x0 = x1\n",
    "    iteraciones += 1\n",
    "\n",
    "print (\"La raiz es %.5f\"%x1)\n",
    "print (\"Numero de iteraciones %d\"%iteraciones)"
   ]
  },
  {
   "cell_type": "code",
   "execution_count": 0,
   "metadata": {
    "collapsed": false
   },
   "outputs": [
   ],
   "source": [
   ]
  }
 ],
 "metadata": {
  "kernelspec": {
   "display_name": "Python 3 (Ubuntu Linux)",
   "language": "python",
   "name": "python3"
  },
  "language_info": {
   "codemirror_mode": {
    "name": "ipython",
    "version": 3
   },
   "file_extension": ".py",
   "mimetype": "text/x-python",
   "name": "python",
   "nbconvert_exporter": "python",
   "pygments_lexer": "ipython3",
   "version": "3.6.6"
  }
 },
 "nbformat": 4,
 "nbformat_minor": 0
}