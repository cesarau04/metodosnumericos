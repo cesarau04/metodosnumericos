{
 "cells": [
  {
   "cell_type": "markdown",
   "metadata": {
    "collapsed": false
   },
   "source": [
    "# Factorizacion LU\n",
    "\n",
    "Hsdfas..  \n",
    "$x_1 + 2x_2 + 4x_3 = 11$\n",
    "$4x_1 + x_2 - x_3 = 0$\n",
    "$2x_1 + 5x_2 +2x_3 = 3$"
   ]
  },
  {
   "cell_type": "code",
   "execution_count": 1,
   "metadata": {
    "collapsed": false
   },
   "outputs": [
    {
     "name": "stdout",
     "output_type": "stream",
     "text": [
      "L:\n",
      "[1, 0, 0]\n",
      "[0, 1, 0]\n",
      "[0, 0, 1]\n",
      "\n",
      "Solucion L:\n",
      "[1, 0, 0]\n",
      "[-1.0, 1, 0]\n",
      "[1.0, -0.5, 1]\n",
      "\n",
      "Solucion Z:\n",
      "[20]\n",
      "[15.0]\n",
      "[-16.5]\n",
      "\n",
      "Solucion B:\n",
      "[7.0]\n",
      "[2.0]\n",
      "[11.0]\n"
     ]
    }
   ],
   "source": [
    "def createMatrix(m,n, valor=0):\n",
    "    C = []\n",
    "    for i in range(m):\n",
    "        C.append([])                            #could be c.append([valor]*n)\n",
    "        for j in range(n):\n",
    "            C[i].append(valor)\n",
    "    return C\n",
    "\n",
    "U = createMatrix(3,3)\n",
    "U[0] = [1,1,1]\n",
    "U[1] = [-1,1,0]\n",
    "U[2] = [1,0,-1]\n",
    "\n",
    "L = createMatrix(3,3)\n",
    "for i in range(len(L)):\n",
    "    L[i][i]=1\n",
    "\n",
    "print(\"L:\")\n",
    "for fila in range(len(L)):\n",
    "    print(L[fila])\n",
    "\n",
    "for i in range(3):\n",
    "    #print(\"HI\")\n",
    "    a = U[i][i]\n",
    "    if a==0:\n",
    "        print(\"La matrix no tiene LU\")\n",
    "        break\n",
    "    for j in range(i+1,3):\n",
    "        b = U[j][i]\n",
    "        c = -1*b/a\n",
    "        L[j][i] = -1*c\n",
    "        T = createMatrix(1,3)\n",
    "        for k in range(3):\n",
    "            T[0][k] = c * U[i][k]\n",
    "        for k in range(3):\n",
    "            U[j][k] += T[0][k]\n",
    "\n",
    "print(\"\\nSolucion L:\")\n",
    "for fila in range(len(L)):\n",
    "    print(L[fila])\n",
    "\n",
    "z = createMatrix(3,1,0)\n",
    "c = createMatrix(3,1,0)\n",
    "c[0] = [20]\n",
    "c[1] = [-5]\n",
    "c[2] = [-4]\n",
    "\n",
    "for i in range(3):\n",
    "    z[i][0] = c[i][0]\n",
    "    for j in range(3):\n",
    "        if i==j:\n",
    "            break\n",
    "        z[i][0] -= L[i][j]*z[j][0]\n",
    "\n",
    "print(\"\\nSolucion Z:\")\n",
    "for fila in range(len(z)):\n",
    "    print(z[fila])\n",
    "\n",
    "b = createMatrix(3,1)\n",
    "\n",
    "for i in range(2,-1,-1):\n",
    "    b[i][0] = z[i][0]\n",
    "    for j in range(2,-1,-1):\n",
    "        if i==j:\n",
    "            b[i][0] = b[i][0]/U[i][j]\n",
    "            break\n",
    "        b[i][0] -= U[i][j]*b[j][0]\n",
    "\n",
    "print(\"\\nSolucion B:\")\n",
    "for fila in range(len(b)):\n",
    "    print(b[fila])"
   ]
  },
  {
   "cell_type": "code",
   "execution_count": 0,
   "metadata": {
    "collapsed": false
   },
   "outputs": [
   ],
   "source": [
   ]
  }
 ],
 "metadata": {
  "kernelspec": {
   "display_name": "Python 3 (Anaconda 5)",
   "language": "python",
   "name": "anaconda5"
  },
  "language_info": {
   "codemirror_mode": {
    "name": "ipython",
    "version": 3
   },
   "file_extension": ".py",
   "mimetype": "text/x-python",
   "name": "python",
   "nbconvert_exporter": "python",
   "pygments_lexer": "ipython3",
   "version": "3.6.5"
  }
 },
 "nbformat": 4,
 "nbformat_minor": 0
}