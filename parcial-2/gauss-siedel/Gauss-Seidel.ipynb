{
 "cells": [
  {
   "cell_type": "code",
   "execution_count": 1,
   "metadata": {
    "collapsed": false
   },
   "outputs": [
    {
     "name": "stdout",
     "output_type": "stream",
     "text": [
      "VALUES 0.5\t9.875\t3.625\n",
      "49998.99999999999\n",
      "VALUES 1.8125\t8.234375\t3.953125\n",
      "2.625\n",
      "VALUES 1.9765625\t8.029296875\t3.994140625\n",
      "0.09051724137931035\n",
      "VALUES 1.9970703125\t8.003662109375\t3.999267578125\n",
      "0.010375494071146246\n",
      "VALUES 1.9996337890625\t8.000457763671875\t3.999908447265625\n",
      "0.0012836185819070905\n",
      "VALUES 1.9999542236328125\t8.000057220458984\t3.999988555908203\n",
      "0.00016024662719003725\n",
      "VALUES 1.9999942779541016\t8.000007152557373\t3.9999985694885254\n",
      "2.0027619040352792e-05\n",
      "VALUES 1.9999992847442627\t8.000000894069672\t3.9999998211860657\n",
      "2.503402242857674e-06\n",
      "FINAL: 1.9999992847442627\t8.000000894069672\t3.9999998211860657\n",
      "Errores: 2.503402242857674e-06\t7.823102632371218e-07\t3.129244969813217e-07\n"
     ]
    }
   ],
   "source": [
    "#  7x^1 - 2x^2 + 1x^3 + 2x^4 =  3\n",
    "#  2x^1 + 8x^2 + 3x^3 + 1x^4 = -2\n",
    "# -1x^1 + 0x^2 + 5x^3 + 2x^4 =  5\n",
    "#  0x^1 + 2x^2 - 1x^3 + 4x^4 =  4\n",
    "\n",
    "def getX1(b,c):\n",
    "    return (c/2)\n",
    "\n",
    "def getX2(a,c):\n",
    "    return (210-(15*a)-(5*c))/(20)\n",
    "\n",
    "def getX3(a,b):\n",
    "    return ((-2*a) - (b))/(-3)\n",
    "\n",
    "\n",
    "x1=1\n",
    "x2=1\n",
    "x3=1\n",
    "\n",
    "error=0.00001\n",
    "\n",
    "x1a = 0.00001\n",
    "x2a = 0.00001\n",
    "x3a = 0.00001\n",
    "\n",
    "for i in range(100):\n",
    "    x1 = getX1(x2,x3)\n",
    "    x2 = getX2(x1,x3)\n",
    "    x3 = getX3(x1,x2)\n",
    "    #x4 = getX4(x1,x2, x3)\n",
    "    print(\"VALUES {0}\\t{1}\\t{2}\".format(x1,x2,x3))\n",
    "    ex1 = abs((x1a-x1)/x1a)\n",
    "    print(ex1)\n",
    "    ex2 = abs((x2a-x2)/x2a)\n",
    "    ex3 = abs((x3a-x3)/x3a)\n",
    "    #ex4 = abs((x4a-x4)/x4a)\n",
    "    if ex1 < error and ex2 < error and ex3 < error:\n",
    "        break\n",
    "    x1a = x1\n",
    "    x2a = x2\n",
    "    x3a = x3\n",
    "    #x4a = x4\n",
    "\n",
    "print(\"FINAL: {0}\\t{1}\\t{2}\".format(x1,x2,x3))\n",
    "print(\"Errores: {0}\\t{1}\\t{2}\".format(ex1,ex2,ex3))"
   ]
  },
  {
   "cell_type": "code",
   "execution_count": 0,
   "metadata": {
    "collapsed": false
   },
   "outputs": [
   ],
   "source": [
   ]
  }
 ],
 "metadata": {
  "kernelspec": {
   "display_name": "Python 3 (Ubuntu Linux)",
   "language": "python",
   "name": "python3"
  },
  "language_info": {
   "codemirror_mode": {
    "name": "ipython",
    "version": 3
   },
   "file_extension": ".py",
   "mimetype": "text/x-python",
   "name": "python",
   "nbconvert_exporter": "python",
   "pygments_lexer": "ipython3",
   "version": "3.6.6"
  }
 },
 "nbformat": 4,
 "nbformat_minor": 0
}