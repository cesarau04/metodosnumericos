{
 "cells": [
  {
   "cell_type": "raw",
   "metadata": {
    "collapsed": false
   },
   "source": [
    "f' = fx0/(x0-xr)\n",
    "\n",
    "x0-xr=fx0/f'x0\n",
    "\n",
    "xr=x0-fx0/f'x0"
   ]
  },
  {
   "cell_type": "code",
   "execution_count": 1,
   "metadata": {
    "collapsed": false
   },
   "outputs": [
    {
     "name": "stdout",
     "output_type": "stream",
     "text": [
      "El valor de la raiz es 0.99924\n",
      "Numero de iteraciones 5\n"
     ]
    }
   ],
   "source": [
    "def f(x):\n",
    "    return 2*x**2-5*x+3\n",
    "def fprima(x):\n",
    "    return 4*x-5\n",
    "\n",
    "x0=0\n",
    "itera=0\n",
    "for i in range(100):\n",
    "    itera+=1\n",
    "    xr = x0 - f(x0)/fprima(x0)\n",
    "    fxr = f(xr)\n",
    "    if abs(fxr) < 0.0001:\n",
    "        break\n",
    "    x0 = xr\n",
    "print(\"El valor de la raiz es %0.5f\"%x0)\n",
    "print(\"Numero de iteraciones %i\"%itera)"
   ]
  },
  {
   "cell_type": "code",
   "execution_count": 1,
   "metadata": {
    "collapsed": false
   },
   "outputs": [
    {
     "name": "stdout",
     "output_type": "stream",
     "text": [
      "El valor de la raiz es 7.36988\n",
      "Numero de iteraciones 4\n"
     ]
    }
   ],
   "source": [
    "def f(x):\n",
    "    return x**4-8.6*x**3-35.51*x**2+464*x-998.46\n",
    "def fprima(x):\n",
    "    return 4*x**3-25.8*x**2-71.02*x+464\n",
    "\n",
    "x0=7\n",
    "itera=0\n",
    "for i in range(100):\n",
    "    itera+=1\n",
    "    xr = x0 - f(x0)/fprima(x0)\n",
    "    fxr = f(xr)\n",
    "    if abs(fxr) < 0.0001:\n",
    "        break\n",
    "    x0 = xr\n",
    "print(\"El valor de la raiz es %0.5f\"%x0)\n",
    "print(\"Numero de iteraciones %i\"%itera)"
   ]
  },
  {
   "cell_type": "code",
   "execution_count": 0,
   "metadata": {
    "collapsed": false
   },
   "outputs": [
   ],
   "source": [
   ]
  }
 ],
 "metadata": {
  "kernelspec": {
   "display_name": "Python 3 (Anaconda 5)",
   "language": "python",
   "name": "anaconda5"
  },
  "language_info": {
   "codemirror_mode": {
    "name": "ipython",
    "version": 3
   },
   "file_extension": ".py",
   "mimetype": "text/x-python",
   "name": "python",
   "nbconvert_exporter": "python",
   "pygments_lexer": "ipython3",
   "version": "3.6.5"
  }
 },
 "nbformat": 4,
 "nbformat_minor": 0
}